{
 "cells": [
  {
   "cell_type": "code",
   "execution_count": 17,
   "id": "skilled-concentrate",
   "metadata": {},
   "outputs": [],
   "source": [
    "import boto3\n",
    "from time import sleep\n",
    "import json\n",
    "\n",
    "client = boto3.client('emr')"
   ]
  },
  {
   "cell_type": "code",
   "execution_count": 46,
   "id": "mental-shopper",
   "metadata": {},
   "outputs": [],
   "source": [
    "# Build the cluster\n",
    "cluster_infos = client.run_job_flow(\n",
    "    Name='cluster_trigger_sm',\n",
    "    ReleaseLabel='emr-5.31.0',# Choose the version of EMR\n",
    "    Instances={\n",
    "        'EmrManagedMasterSecurityGroup': 'sg-0483e5b63626a0889',# Add the right secrurity groups (need to be share with the sagemaker notebook)\n",
    "        'EmrManagedSlaveSecurityGroup': 'sg-0483e5b63626a0889',# Add the right secrurity groups\n",
    "        'KeepJobFlowAliveWhenNoSteps' : True,\n",
    "        'InstanceGroups': [\n",
    "            {\n",
    "                'Name': 'test_master',\n",
    "                'Market': 'SPOT',\n",
    "                'InstanceRole': 'MASTER',\n",
    "                'InstanceType' : 'm5.xlarge',\n",
    "                'InstanceCount' : 1\n",
    "            },\n",
    "            {\n",
    "                'Name': 'test_node',\n",
    "                'Market': 'SPOT',\n",
    "                'InstanceRole': 'CORE',\n",
    "                'InstanceType' : 'm5.xlarge',\n",
    "                'InstanceCount' : 1\n",
    "            }]},\n",
    "    Applications=[\n",
    "        {'Name': 'Spark'},\n",
    "        {'Name': 'Hadoop'},\n",
    "        {'Name': 'Hue'},\n",
    "        {'Name': 'Livy'},\n",
    "        {'Name': 'Zeppelin'},\n",
    "        {'Name': 'Ganglia'}\n",
    "    ],\n",
    "    JobFlowRole='EMR_EC2_DefaultRole', # default role\n",
    "    ServiceRole='EMR_DefaultRole',\n",
    "    Configurations=[\n",
    "  {\n",
    "    \"Classification\": \"spark-hive-site\",\n",
    "    \"Properties\": {\n",
    "      \"hive.metastore.client.factory.class\": \"com.amazonaws.glue.catalog.metastore.AWSGlueDataCatalogHiveClientFactory\"\n",
    "      }\n",
    "  },\n",
    "  {\n",
    "    \"Classification\": \"core-site\",\n",
    "    \"Properties\": {\n",
    "      \"hadoop.proxyuser.livy.groups\": \"*\",\n",
    "      \"hadoop.proxyuser.livy.hosts\": \"*\"\n",
    "    }\n",
    "  },\n",
    "  {\n",
    "    \"Classification\": \"livy-conf\",\n",
    "    \"Properties\": {\n",
    "      \"livy.impersonation.enabled\": \"true\",\n",
    "      \"livy.server.session.timeout\":\"5h\"\n",
    "    }\n",
    "  }\n",
    "]\n",
    ")"
   ]
  },
  {
   "cell_type": "code",
   "execution_count": 51,
   "id": "informal-wholesale",
   "metadata": {},
   "outputs": [
    {
     "name": "stdout",
     "output_type": "stream",
     "text": [
      "{'Instances': [{'Id': 'ci-4POEA6JB8VFG', 'Ec2InstanceId': 'i-0c9d6ee467a2150d1', 'PublicDnsName': 'ec2-3-238-23-82.compute-1.amazonaws.com', 'PublicIpAddress': '3.238.23.82', 'PrivateDnsName': 'ip-172-31-95-169.ec2.internal', 'PrivateIpAddress': '172.31.95.169', 'Status': {'State': 'RUNNING', 'StateChangeReason': {}, 'Timeline': {'CreationDateTime': datetime.datetime(2021, 3, 29, 14, 23, 57, 358000, tzinfo=tzlocal()), 'ReadyDateTime': datetime.datetime(2021, 3, 29, 14, 30, 32, 477000, tzinfo=tzlocal())}}, 'InstanceGroupId': 'ig-2XXTB13G0WH1F', 'Market': 'SPOT', 'InstanceType': 'm5.xlarge', 'EbsVolumes': [{'Device': '/dev/sdc', 'VolumeId': 'vol-049ef5242fa57968b'}, {'Device': '/dev/sdb', 'VolumeId': 'vol-0f9eb12dfc93994ef'}]}], 'ResponseMetadata': {'RequestId': 'e7e1bb8e-fe04-4123-bbe6-3c647adb976f', 'HTTPStatusCode': 200, 'HTTPHeaders': {'x-amzn-requestid': 'e7e1bb8e-fe04-4123-bbe6-3c647adb976f', 'content-type': 'application/x-amz-json-1.1', 'content-length': '595', 'date': 'Mon, 29 Mar 2021 14:30:35 GMT'}, 'RetryAttempts': 0}}\n"
     ]
    }
   ],
   "source": [
    "# Collect the infomation on the cluster when it's up\n",
    "while True:\n",
    "    instances_cluster = boto3.client('emr',region_name='us-east-1').list_instances(ClusterId =cluster_infos['JobFlowId'], InstanceGroupTypes=['MASTER'])\n",
    "    if len(instances_cluster[\"Instances\"]) == 1 and instances_cluster[\"Instances\"][0]['Status']['State'] == 'RUNNING':\n",
    "        print(instances_cluster)\n",
    "        break\n",
    "    sleep(15)\n",
    "    \n",
    "# Store the ip of the master node in a json file\n",
    "master_infos = instances_cluster['Instances'][0]\n",
    "master_infos = {'ip' : master_infos['PrivateIpAddress']}\n",
    "with open('emr_config.json', 'w') as outfile:\n",
    "    json.dump(master_infos, outfile)"
   ]
  },
  {
   "cell_type": "code",
   "execution_count": 56,
   "id": "activated-monroe",
   "metadata": {},
   "outputs": [
    {
     "name": "stdout",
     "output_type": "stream",
     "text": [
      "/home/ec2-user/SageMaker/emr_config.json\n",
      "\"172.31.95.169\"\n",
      "172.31.95.169\n",
      "Fetching Sparkmagic example config from GitHub...\n",
      "--2021-03-29 14:40:51--  https://raw.githubusercontent.com/jupyter-incubator/sparkmagic/master/sparkmagic/example_config.json\n",
      "Resolving raw.githubusercontent.com (raw.githubusercontent.com)... 185.199.111.133, 185.199.108.133, 185.199.109.133, ...\n",
      "Connecting to raw.githubusercontent.com (raw.githubusercontent.com)|185.199.111.133|:443... connected.\n",
      "HTTP request sent, awaiting response... 200 OK\n",
      "Length: 2081 (2.0K) [text/plain]\n",
      "Saving to: ‘example_config.json’\n",
      "\n",
      "example_config.json 100%[===================>]   2.03K  --.-KB/s    in 0s      \n",
      "\n",
      "2021-03-29 14:40:51 (47.4 MB/s) - ‘example_config.json’ saved [2081/2081]\n",
      "\n",
      "Replacing EMR master node IP in Sparkmagic config...\n",
      "Sending a sample request to Livy..\n",
      "{\"from\":0,\"total\":0,\"sessions\":[]}"
     ]
    }
   ],
   "source": [
    "# Execute the bash script that will do the connection betrween the sagemaker notebook (https://docs.aws.amazon.com/sagemaker/latest/dg/nbi-lifecycle-config-emr.html)\n",
    "!/bin/bash /home/ec2-user/SageMaker/connect_emr_cluster.sh"
   ]
  }
 ],
 "metadata": {
  "kernelspec": {
   "display_name": "conda_python3",
   "language": "python",
   "name": "conda_python3"
  },
  "language_info": {
   "codemirror_mode": {
    "name": "ipython",
    "version": 3
   },
   "file_extension": ".py",
   "mimetype": "text/x-python",
   "name": "python",
   "nbconvert_exporter": "python",
   "pygments_lexer": "ipython3",
   "version": "3.6.13"
  }
 },
 "nbformat": 4,
 "nbformat_minor": 5
}

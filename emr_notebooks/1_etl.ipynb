{
 "cells": [
  {
   "cell_type": "code",
   "execution_count": 1,
   "id": "mobile-commissioner",
   "metadata": {},
   "outputs": [
    {
     "data": {
      "text/html": [
       "Current session configs: <tt>{'conf': {'spark.pyspark.python': 'python3', 'spark.pyspark.virtualenv.enabled': 'true', 'spark.pyspark.virtualenv.bin.path': '/usr/bin/virtualenv', 'spark.pyspark.virtualenv.type': 'native', 'spark.dynamicAllocation.enabled': 'true', 'spark.shuffle.service.enabled': 'true', 'spark.dynamicAllocation.minExecutors': '8', 'spark.sql.sources.partitionOverwriteMode': 'dynamic', 'spark.sql.legacy.allowCreatingManagedTableUsingNonemptyLocation': 'true'}, 'kind': 'pyspark'}</tt><br>"
      ],
      "text/plain": [
       "<IPython.core.display.HTML object>"
      ]
     },
     "metadata": {},
     "output_type": "display_data"
    },
    {
     "data": {
      "text/html": [
       "No active sessions."
      ],
      "text/plain": [
       "<IPython.core.display.HTML object>"
      ]
     },
     "metadata": {},
     "output_type": "display_data"
    }
   ],
   "source": [
    "%%configure -f\n",
    "{ \"conf\":{\n",
    "    \"spark.pyspark.python\": \"python3\",\n",
    "    \"spark.pyspark.virtualenv.enabled\": \"true\",\n",
    "    \"spark.pyspark.virtualenv.bin.path\":\"/usr/bin/virtualenv\",\n",
    "    \"spark.pyspark.virtualenv.type\":\"native\",\n",
    "    \"spark.dynamicAllocation.enabled\":\"true\",\n",
    "    \"spark.shuffle.service.enabled\":\"true\",\n",
    "    \"spark.dynamicAllocation.minExecutors\":\"8\",\n",
    "    \"spark.sql.sources.partitionOverwriteMode\":\"dynamic\",\n",
    "    \"spark.sql.legacy.allowCreatingManagedTableUsingNonemptyLocation\":\"true\"\n",
    "}\n",
    "}"
   ]
  },
  {
   "cell_type": "code",
   "execution_count": 2,
   "id": "fiscal-roommate",
   "metadata": {},
   "outputs": [
    {
     "data": {
      "application/vnd.jupyter.widget-view+json": {
       "model_id": "f9840ceb37274ff79b8ef34fafb58f5d",
       "version_major": 2,
       "version_minor": 0
      },
      "text/plain": [
       "VBox()"
      ]
     },
     "metadata": {},
     "output_type": "display_data"
    },
    {
     "name": "stdout",
     "output_type": "stream",
     "text": [
      "Starting Spark application\n"
     ]
    },
    {
     "data": {
      "text/html": [
       "<table>\n",
       "<tr><th>ID</th><th>YARN Application ID</th><th>Kind</th><th>State</th><th>Spark UI</th><th>Driver log</th><th>Current session?</th></tr><tr><td>0</td><td>application_1617541905191_0001</td><td>pyspark</td><td>idle</td><td><a target=\"_blank\" href=\"http://ip-172-31-82-58.ec2.internal:20888/proxy/application_1617541905191_0001/\">Link</a></td><td><a target=\"_blank\" href=\"http://ip-172-31-87-55.ec2.internal:8042/node/containerlogs/container_1617541905191_0001_01_000001/livy\">Link</a></td><td>✔</td></tr></table>"
      ],
      "text/plain": [
       "<IPython.core.display.HTML object>"
      ]
     },
     "metadata": {},
     "output_type": "display_data"
    },
    {
     "data": {
      "application/vnd.jupyter.widget-view+json": {
       "model_id": "",
       "version_major": 2,
       "version_minor": 0
      },
      "text/plain": [
       "FloatProgress(value=0.0, bar_style='info', description='Progress:', layout=Layout(height='25px', width='50%'),…"
      ]
     },
     "metadata": {},
     "output_type": "display_data"
    },
    {
     "name": "stdout",
     "output_type": "stream",
     "text": [
      "SparkSession available as 'spark'.\n"
     ]
    },
    {
     "data": {
      "application/vnd.jupyter.widget-view+json": {
       "model_id": "",
       "version_major": 2,
       "version_minor": 0
      },
      "text/plain": [
       "FloatProgress(value=0.0, bar_style='info', description='Progress:', layout=Layout(height='25px', width='50%'),…"
      ]
     },
     "metadata": {},
     "output_type": "display_data"
    },
    {
     "name": "stdout",
     "output_type": "stream",
     "text": [
      "Collecting pandas\n",
      "  Downloading https://files.pythonhosted.org/packages/f3/d4/3fe3b5bf9886912b64ef040040aec356fa48825e5a829a84c2667afdf952/pandas-1.2.3-cp37-cp37m-manylinux1_x86_64.whl (9.9MB)\n",
      "Requirement already satisfied: numpy>=1.16.5 in /usr/local/lib64/python3.7/site-packages (from pandas)\n",
      "Requirement already satisfied: pytz>=2017.3 in /usr/local/lib/python3.7/site-packages (from pandas)\n",
      "Collecting python-dateutil>=2.7.3 (from pandas)\n",
      "  Downloading https://files.pythonhosted.org/packages/d4/70/d60450c3dd48ef87586924207ae8907090de0b306af2bce5d134d78615cb/python_dateutil-2.8.1-py2.py3-none-any.whl (227kB)\n",
      "Requirement already satisfied: six>=1.5 in /usr/local/lib/python3.7/site-packages (from python-dateutil>=2.7.3->pandas)\n",
      "Installing collected packages: python-dateutil, pandas\n",
      "Successfully installed pandas-1.2.3 python-dateutil-2.8.1"
     ]
    }
   ],
   "source": [
    "sc.install_pypi_package(\"pandas\")"
   ]
  },
  {
   "cell_type": "code",
   "execution_count": 3,
   "id": "south-patrick",
   "metadata": {},
   "outputs": [
    {
     "data": {
      "application/vnd.jupyter.widget-view+json": {
       "model_id": "003f079861374a45bf72b25cc33cfd0d",
       "version_major": 2,
       "version_minor": 0
      },
      "text/plain": [
       "VBox()"
      ]
     },
     "metadata": {},
     "output_type": "display_data"
    },
    {
     "data": {
      "application/vnd.jupyter.widget-view+json": {
       "model_id": "",
       "version_major": 2,
       "version_minor": 0
      },
      "text/plain": [
       "FloatProgress(value=0.0, bar_style='info', description='Progress:', layout=Layout(height='25px', width='50%'),…"
      ]
     },
     "metadata": {},
     "output_type": "display_data"
    }
   ],
   "source": [
    "from pyspark.sql import SparkSession\n",
    "spark = SparkSession.builder.appName(\"1_etl\").enableHiveSupport().getOrCreate()"
   ]
  },
  {
   "cell_type": "code",
   "execution_count": 6,
   "id": "limiting-certification",
   "metadata": {},
   "outputs": [
    {
     "data": {
      "application/vnd.jupyter.widget-view+json": {
       "model_id": "c37d1946e5dd42a7a47f6a39ccf382e2",
       "version_major": 2,
       "version_minor": 0
      },
      "text/plain": [
       "VBox()"
      ]
     },
     "metadata": {},
     "output_type": "display_data"
    },
    {
     "data": {
      "application/vnd.jupyter.widget-view+json": {
       "model_id": "",
       "version_major": 2,
       "version_minor": 0
      },
      "text/plain": [
       "FloatProgress(value=0.0, bar_style='info', description='Progress:', layout=Layout(height='25px', width='50%'),…"
      ]
     },
     "metadata": {},
     "output_type": "display_data"
    }
   ],
   "source": [
    "from datetime import datetime\n",
    "\n",
    "import pyspark.sql.functions as F\n",
    "import pyspark.sql.types as T\n",
    "\n",
    "import pandas as pd\n",
    "import numpy as np"
   ]
  },
  {
   "cell_type": "code",
   "execution_count": 7,
   "id": "sustainable-popularity",
   "metadata": {},
   "outputs": [
    {
     "data": {
      "application/vnd.jupyter.widget-view+json": {
       "model_id": "3a32ffcd2fc3447082b17fe309b9ca2e",
       "version_major": 2,
       "version_minor": 0
      },
      "text/plain": [
       "VBox()"
      ]
     },
     "metadata": {},
     "output_type": "display_data"
    },
    {
     "data": {
      "application/vnd.jupyter.widget-view+json": {
       "model_id": "",
       "version_major": 2,
       "version_minor": 0
      },
      "text/plain": [
       "FloatProgress(value=0.0, bar_style='info', description='Progress:', layout=Layout(height='25px', width='50%'),…"
      ]
     },
     "metadata": {},
     "output_type": "display_data"
    },
    {
     "name": "stdout",
     "output_type": "stream",
     "text": [
      "1592232"
     ]
    }
   ],
   "source": [
    "# Collect some general infos on all the matches (game mode, platform, date , number of rounds)\n",
    "query = \"\"\"\n",
    "SELECT \n",
    "matchid\n",
    ",platform\n",
    ",mapname\n",
    ",gamemode\n",
    ",MAX(roundnumber) AS max_roundnumber\n",
    ",COUNT(*) AS count_rows\n",
    ",MIN(dateid) AS dateid\n",
    "FROM r6s_datapeek.dump_rounds\n",
    "GROUP BY matchid, platform, mapname, gamemode\n",
    "\"\"\"\n",
    "\n",
    "dfs_match_stats = spark.sql(query).persist()\n",
    "dfs_match_stats = dfs_match_stats.withColumn('max_roundnumber', F.col('max_roundnumber').cast(T.IntegerType()))\n",
    "dfs_match_stats.count()"
   ]
  },
  {
   "cell_type": "code",
   "execution_count": 8,
   "id": "honest-mixture",
   "metadata": {},
   "outputs": [
    {
     "data": {
      "application/vnd.jupyter.widget-view+json": {
       "model_id": "8c5ecfec80bf4056963a2fa2dca9626f",
       "version_major": 2,
       "version_minor": 0
      },
      "text/plain": [
       "VBox()"
      ]
     },
     "metadata": {},
     "output_type": "display_data"
    },
    {
     "data": {
      "application/vnd.jupyter.widget-view+json": {
       "model_id": "",
       "version_major": 2,
       "version_minor": 0
      },
      "text/plain": [
       "FloatProgress(value=0.0, bar_style='info', description='Progress:', layout=Layout(height='25px', width='50%'),…"
      ]
     },
     "metadata": {},
     "output_type": "display_data"
    },
    {
     "name": "stdout",
     "output_type": "stream",
     "text": [
      "      matchid platform           mapname  ... max_roundnumber  count_rows    dateid\n",
      "0  1011024541      PS4             HOUSE  ...               4          35  20170512\n",
      "1  1016782541       PC  KAFE DOSTOYEVSKY  ...               4          40  20170212\n",
      "2  1020114761     XONE             PLANE  ...               6          49  20170306\n",
      "3  1022613961     XONE           FAVELAS  ...               5          50  20170321\n",
      "4  1026015101     XONE            OREGON  ...               6          59  20170221\n",
      "\n",
      "[5 rows x 7 columns]"
     ]
    }
   ],
   "source": [
    "dfs_match_stats.sample(False, 0.1, 0).limit(5).toPandas()"
   ]
  },
  {
   "cell_type": "code",
   "execution_count": 9,
   "id": "significant-damages",
   "metadata": {},
   "outputs": [
    {
     "data": {
      "application/vnd.jupyter.widget-view+json": {
       "model_id": "e75281263d5f4aaa85a4f5d076ea7523",
       "version_major": 2,
       "version_minor": 0
      },
      "text/plain": [
       "VBox()"
      ]
     },
     "metadata": {},
     "output_type": "display_data"
    },
    {
     "data": {
      "application/vnd.jupyter.widget-view+json": {
       "model_id": "",
       "version_major": 2,
       "version_minor": 0
      },
      "text/plain": [
       "FloatProgress(value=0.0, bar_style='info', description='Progress:', layout=Layout(height='25px', width='50%'),…"
      ]
     },
     "metadata": {},
     "output_type": "display_data"
    },
    {
     "name": "stdout",
     "output_type": "stream",
     "text": [
      "14359666"
     ]
    }
   ],
   "source": [
    "# Collect the settings (configuration of the team) of the last round of each match\n",
    "query = \"\"\"\n",
    "SELECT\n",
    "t1.matchid\n",
    ",t1.team\n",
    ",t1.skillrank\n",
    ",t1.clearancelevel\n",
    "FROM r6s_datapeek.dump_rounds t1\n",
    "INNER JOIN (\n",
    "    SELECT\n",
    "    matchid\n",
    "    ,MAX(roundnumber) AS max_roundnumber\n",
    "    FROM r6s_datapeek.dump_rounds\n",
    "    GROUP BY matchid\n",
    ") t2\n",
    "ON t1.matchid == t2.matchid\n",
    "AND t1.roundnumber == t2.max_roundnumber\n",
    "\"\"\"\n",
    "\n",
    "dfs_lastround_configuration = spark.sql(query).persist()\n",
    "dfs_lastround_configuration = dfs_lastround_configuration.withColumn('user_attributes', F.array(F.col('skillrank'), F.col('clearancelevel')))# Build  tuple for each user with his level and rank\n",
    "dfs_lastround_configuration.count()"
   ]
  },
  {
   "cell_type": "code",
   "execution_count": 10,
   "id": "artificial-justice",
   "metadata": {},
   "outputs": [
    {
     "data": {
      "application/vnd.jupyter.widget-view+json": {
       "model_id": "ccead7ebce3d44ad868c914a5529192d",
       "version_major": 2,
       "version_minor": 0
      },
      "text/plain": [
       "VBox()"
      ]
     },
     "metadata": {},
     "output_type": "display_data"
    },
    {
     "data": {
      "application/vnd.jupyter.widget-view+json": {
       "model_id": "",
       "version_major": 2,
       "version_minor": 0
      },
      "text/plain": [
       "FloatProgress(value=0.0, bar_style='info', description='Progress:', layout=Layout(height='25px', width='50%'),…"
      ]
     },
     "metadata": {},
     "output_type": "display_data"
    },
    {
     "name": "stdout",
     "output_type": "stream",
     "text": [
      "1583289"
     ]
    }
   ],
   "source": [
    "# Aggregate the informations at the team level \n",
    "dfs_lastround_configuration_agg_team0 = dfs_lastround_configuration.filter(F.col('team') == '0').groupBy('matchid').agg(F.collect_list('user_attributes').alias('team0_user_attributes_lastround'))\n",
    "dfs_lastround_configuration_agg_team1 = dfs_lastround_configuration.filter(F.col('team') == '1').groupBy('matchid').agg(F.collect_list('user_attributes').alias('team1_user_attributes_lastround'))\n",
    "dfs_lastround_configuration_agg = dfs_lastround_configuration_agg_team0.join(dfs_lastround_configuration_agg_team1, on='matchid')\n",
    "dfs_lastround_configuration_agg.count()"
   ]
  },
  {
   "cell_type": "code",
   "execution_count": 11,
   "id": "constant-orlando",
   "metadata": {},
   "outputs": [
    {
     "data": {
      "application/vnd.jupyter.widget-view+json": {
       "model_id": "b4fe03d50b594dceaa66a036b2dabef5",
       "version_major": 2,
       "version_minor": 0
      },
      "text/plain": [
       "VBox()"
      ]
     },
     "metadata": {},
     "output_type": "display_data"
    },
    {
     "data": {
      "application/vnd.jupyter.widget-view+json": {
       "model_id": "",
       "version_major": 2,
       "version_minor": 0
      },
      "text/plain": [
       "FloatProgress(value=0.0, bar_style='info', description='Progress:', layout=Layout(height='25px', width='50%'),…"
      ]
     },
     "metadata": {},
     "output_type": "display_data"
    },
    {
     "name": "stdout",
     "output_type": "stream",
     "text": [
      "15198384"
     ]
    }
   ],
   "source": [
    "# Do the same but for the first round (with a small twist)\n",
    "query = \"\"\"\n",
    "SELECT\n",
    "matchid\n",
    ",team\n",
    ",role\n",
    ",skillrank\n",
    ",clearancelevel\n",
    "FROM r6s_datapeek.dump_rounds\n",
    "WHERE roundnumber = '1'\n",
    "\"\"\"\n",
    "\n",
    "dfs_firstround_configuration = spark.sql(query).persist()\n",
    "dfs_firstround_configuration = dfs_firstround_configuration.withColumn('user_attributes', F.array(F.col('skillrank'), F.col('clearancelevel')))\n",
    "dfs_firstround_configuration.count()"
   ]
  },
  {
   "cell_type": "code",
   "execution_count": 25,
   "id": "fancy-separation",
   "metadata": {},
   "outputs": [
    {
     "data": {
      "application/vnd.jupyter.widget-view+json": {
       "model_id": "aaf23bf0741f4b5b876782ea39c2f171",
       "version_major": 2,
       "version_minor": 0
      },
      "text/plain": [
       "VBox()"
      ]
     },
     "metadata": {},
     "output_type": "display_data"
    },
    {
     "data": {
      "application/vnd.jupyter.widget-view+json": {
       "model_id": "",
       "version_major": 2,
       "version_minor": 0
      },
      "text/plain": [
       "FloatProgress(value=0.0, bar_style='info', description='Progress:', layout=Layout(height='25px', width='50%'),…"
      ]
     },
     "metadata": {},
     "output_type": "display_data"
    }
   ],
   "source": [
    "# Determine the role of each team at the begiining of the match\n",
    "dfs_firstround_team_role = dfs_firstround_configuration.groupBy(F.col('matchid')).pivot('team').agg(F.first('role'))\n",
    "dfs_firstround_team_role = dfs_firstround_team_role.select('matchid',F.col('0').alias('team0_role_firstround'), F.col('1').alias('team1_role_firstround'))"
   ]
  },
  {
   "cell_type": "code",
   "execution_count": 26,
   "id": "essential-scientist",
   "metadata": {},
   "outputs": [
    {
     "data": {
      "application/vnd.jupyter.widget-view+json": {
       "model_id": "e8d39ded5fa3432798f054fd67d2ae82",
       "version_major": 2,
       "version_minor": 0
      },
      "text/plain": [
       "VBox()"
      ]
     },
     "metadata": {},
     "output_type": "display_data"
    },
    {
     "data": {
      "application/vnd.jupyter.widget-view+json": {
       "model_id": "",
       "version_major": 2,
       "version_minor": 0
      },
      "text/plain": [
       "FloatProgress(value=0.0, bar_style='info', description='Progress:', layout=Layout(height='25px', width='50%'),…"
      ]
     },
     "metadata": {},
     "output_type": "display_data"
    }
   ],
   "source": [
    "dfs_firstround_configuration_agg_team0 = dfs_firstround_configuration.filter(F.col('team') == '0').groupBy('matchid').agg(F.collect_list('user_attributes').alias('team0_user_attributes_firstround'))\n",
    "dfs_firstround_configuration_agg_team1 = dfs_firstround_configuration.filter(F.col('team') == '1').groupBy('matchid').agg(F.collect_list('user_attributes').alias('team1_user_attributes_firstround'))\n",
    "dfs_firstround_configuration_agg = dfs_firstround_team_role.join(dfs_firstround_configuration_agg_team0.join(dfs_firstround_configuration_agg_team1, on='matchid'), on='matchid')"
   ]
  },
  {
   "cell_type": "code",
   "execution_count": 27,
   "id": "respective-crime",
   "metadata": {},
   "outputs": [
    {
     "data": {
      "application/vnd.jupyter.widget-view+json": {
       "model_id": "23fa5537b0bc4dceb5ab4798e83fe589",
       "version_major": 2,
       "version_minor": 0
      },
      "text/plain": [
       "VBox()"
      ]
     },
     "metadata": {},
     "output_type": "display_data"
    },
    {
     "data": {
      "application/vnd.jupyter.widget-view+json": {
       "model_id": "",
       "version_major": 2,
       "version_minor": 0
      },
      "text/plain": [
       "FloatProgress(value=0.0, bar_style='info', description='Progress:', layout=Layout(height='25px', width='50%'),…"
      ]
     },
     "metadata": {},
     "output_type": "display_data"
    },
    {
     "name": "stdout",
     "output_type": "stream",
     "text": [
      "1583065"
     ]
    }
   ],
   "source": [
    "# Join the infos of the first and last rounds\n",
    "dfs_match_round_configuration = dfs_firstround_configuration_agg.join(dfs_lastround_configuration_agg, on='matchid').persist()\n",
    "dfs_match_round_configuration.count()"
   ]
  },
  {
   "cell_type": "code",
   "execution_count": 28,
   "id": "fitted-buffalo",
   "metadata": {},
   "outputs": [
    {
     "data": {
      "application/vnd.jupyter.widget-view+json": {
       "model_id": "a9bc6de2f95e4066b8710d0336c08a31",
       "version_major": 2,
       "version_minor": 0
      },
      "text/plain": [
       "VBox()"
      ]
     },
     "metadata": {},
     "output_type": "display_data"
    },
    {
     "data": {
      "application/vnd.jupyter.widget-view+json": {
       "model_id": "",
       "version_major": 2,
       "version_minor": 0
      },
      "text/plain": [
       "FloatProgress(value=0.0, bar_style='info', description='Progress:', layout=Layout(height='25px', width='50%'),…"
      ]
     },
     "metadata": {},
     "output_type": "display_data"
    }
   ],
   "source": [
    "def prepare_levels(infos, idx):\n",
    "    levels = sorted([elt[idx] for elt in infos])\n",
    "    return levels\n",
    "    \n",
    "def determine_team_changed(firstround, lastround):\n",
    "    def determine_team_changed_(firstround, lastround):\n",
    "        if sorted(firstround) != sorted(lastround):\n",
    "                return 1\n",
    "        return 0\n",
    "    return F.udf(determine_team_changed_, T.IntegerType())(firstround, lastround)\n",
    "\n",
    "# Compute a few metrics to evaluate the evolution of the teams between the first and last rounds (compare the level/rank, the delta of the size of the teams, and the size at the beginning)\n",
    "for teamid in range(2):\n",
    "    dfs_match_round_configuration = dfs_match_round_configuration.withColumn(f'team{teamid}_changed', determine_team_changed(F.col(f'team{teamid}_user_attributes_firstround'), F.col(f'team{teamid}_user_attributes_lastround')))\n",
    "    dfs_match_round_configuration = dfs_match_round_configuration.withColumn(f'team{teamid}_deltasize', F.size(F.col(f'team{teamid}_user_attributes_lastround')) - F.size(F.col(f'team{teamid}_user_attributes_firstround')))\n",
    "    dfs_match_round_configuration = dfs_match_round_configuration.withColumn(f'team{teamid}_startsize', F.size(F.col(f'team{teamid}_user_attributes_firstround')))"
   ]
  },
  {
   "cell_type": "code",
   "execution_count": 29,
   "id": "excellent-amino",
   "metadata": {},
   "outputs": [
    {
     "data": {
      "application/vnd.jupyter.widget-view+json": {
       "model_id": "2664e8bfa12a4b629a590cabc87c03ab",
       "version_major": 2,
       "version_minor": 0
      },
      "text/plain": [
       "VBox()"
      ]
     },
     "metadata": {},
     "output_type": "display_data"
    },
    {
     "data": {
      "application/vnd.jupyter.widget-view+json": {
       "model_id": "",
       "version_major": 2,
       "version_minor": 0
      },
      "text/plain": [
       "FloatProgress(value=0.0, bar_style='info', description='Progress:', layout=Layout(height='25px', width='50%'),…"
      ]
     },
     "metadata": {},
     "output_type": "display_data"
    }
   ],
   "source": [
    "# Determne the number of rounds won by both teams\n",
    "query = \"\"\"\n",
    "SELECT\n",
    "matchid\n",
    ",roundnumber\n",
    ",team\n",
    ",haswon\n",
    "FROM r6s_datapeek.dump_rounds\n",
    "GROUP BY matchid, roundnumber, team, haswon\n",
    "\"\"\"\n",
    "dfs_win_round = spark.sql(query)\n",
    "dfs_win_round = dfs_win_round.withColumn('haswon', F.col('haswon').cast(T.IntegerType()))\n",
    "dfs_win_match = dfs_win_round.groupBy(['matchid', 'team']).agg(F.sum('haswon').alias('count_round_won')).persist()\n",
    "dfs_win_match = dfs_win_match.groupBy(F.col('matchid')).pivot('team').agg(F.first('count_round_won'))\n",
    "dfs_win_match = dfs_win_match.select('matchid',F.col('0').alias('team0_role_count_round_won'), F.col('1').alias('team1_role_count_round_won'))"
   ]
  },
  {
   "cell_type": "code",
   "execution_count": 30,
   "id": "second-volume",
   "metadata": {},
   "outputs": [
    {
     "data": {
      "application/vnd.jupyter.widget-view+json": {
       "model_id": "efa7968945ba4dc8949e5974f6595002",
       "version_major": 2,
       "version_minor": 0
      },
      "text/plain": [
       "VBox()"
      ]
     },
     "metadata": {},
     "output_type": "display_data"
    },
    {
     "data": {
      "application/vnd.jupyter.widget-view+json": {
       "model_id": "",
       "version_major": 2,
       "version_minor": 0
      },
      "text/plain": [
       "FloatProgress(value=0.0, bar_style='info', description='Progress:', layout=Layout(height='25px', width='50%'),…"
      ]
     },
     "metadata": {},
     "output_type": "display_data"
    },
    {
     "name": "stdout",
     "output_type": "stream",
     "text": [
      "      matchid  team0_role_count_round_won  team1_role_count_round_won\n",
      "0   195260441                           2                           4\n",
      "1  3692232409                           4                           1\n",
      "2  1853762881                           0                           4\n",
      "3  1708168241                           4                           1\n",
      "4  3518396009                           4                           5"
     ]
    }
   ],
   "source": [
    "dfs_win_match.sample(False, 0.1, 0).limit(5).toPandas()"
   ]
  },
  {
   "cell_type": "code",
   "execution_count": 31,
   "id": "peripheral-warner",
   "metadata": {},
   "outputs": [
    {
     "data": {
      "application/vnd.jupyter.widget-view+json": {
       "model_id": "568de242b2954d67a165770de3c1250a",
       "version_major": 2,
       "version_minor": 0
      },
      "text/plain": [
       "VBox()"
      ]
     },
     "metadata": {},
     "output_type": "display_data"
    },
    {
     "data": {
      "application/vnd.jupyter.widget-view+json": {
       "model_id": "",
       "version_major": 2,
       "version_minor": 0
      },
      "text/plain": [
       "FloatProgress(value=0.0, bar_style='info', description='Progress:', layout=Layout(height='25px', width='50%'),…"
      ]
     },
     "metadata": {},
     "output_type": "display_data"
    },
    {
     "name": "stdout",
     "output_type": "stream",
     "text": [
      "1586459"
     ]
    }
   ],
   "source": [
    "# Compute the number fo rows available per matches\n",
    "query = \"\"\"\n",
    "SELECT\n",
    "matchid\n",
    ",MAX(count_rows) AS max_count_rows\n",
    "FROM (\n",
    "    SELECT\n",
    "    matchid\n",
    "    ,team\n",
    "    ,roundnumber\n",
    "    ,COUNT(*) AS count_rows\n",
    "    FROM r6s_datapeek.dump_rounds\n",
    "    GROUP BY matchid, team, roundnumber\n",
    ")\n",
    "GROUP BY matchid\n",
    "\"\"\"\n",
    "\n",
    "dfs_match_round_agg = spark.sql(query).persist()\n",
    "dfs_match_round_agg.count()"
   ]
  },
  {
   "cell_type": "code",
   "execution_count": 32,
   "id": "relevant-wheat",
   "metadata": {},
   "outputs": [
    {
     "data": {
      "application/vnd.jupyter.widget-view+json": {
       "model_id": "a38a4bfcda5e492ebdc9daf62d7c78c8",
       "version_major": 2,
       "version_minor": 0
      },
      "text/plain": [
       "VBox()"
      ]
     },
     "metadata": {},
     "output_type": "display_data"
    },
    {
     "data": {
      "application/vnd.jupyter.widget-view+json": {
       "model_id": "",
       "version_major": 2,
       "version_minor": 0
      },
      "text/plain": [
       "FloatProgress(value=0.0, bar_style='info', description='Progress:', layout=Layout(height='25px', width='50%'),…"
      ]
     },
     "metadata": {},
     "output_type": "display_data"
    }
   ],
   "source": [
    "dfs_matches_stats = dfs_match_stats.join(dfs_match_round_configuration, on = 'matchid').join(dfs_match_round_agg, on = 'matchid').join(dfs_win_match, on = 'matchid').persist()\n",
    "dfs_matches_stats.count()"
   ]
  },
  {
   "cell_type": "code",
   "execution_count": 33,
   "id": "adequate-consultation",
   "metadata": {},
   "outputs": [
    {
     "data": {
      "application/vnd.jupyter.widget-view+json": {
       "model_id": "85e4f984569f4d2790193bead13bf726",
       "version_major": 2,
       "version_minor": 0
      },
      "text/plain": [
       "VBox()"
      ]
     },
     "metadata": {},
     "output_type": "display_data"
    },
    {
     "data": {
      "application/vnd.jupyter.widget-view+json": {
       "model_id": "",
       "version_major": 2,
       "version_minor": 0
      },
      "text/plain": [
       "FloatProgress(value=0.0, bar_style='info', description='Progress:', layout=Layout(height='25px', width='50%'),…"
      ]
     },
     "metadata": {},
     "output_type": "display_data"
    }
   ],
   "source": [
    "def compute_average_level(user_levels):\n",
    "    def compute_average_level_(user_levels):\n",
    "        levels = [int(elt[1]) for elt in user_levels]\n",
    "        return float(np.mean(levels))\n",
    "    return F.udf(compute_average_level_, T.FloatType())(user_levels)\n",
    "\n",
    "def compute_std_level(user_levels):\n",
    "    def compute_std_level_(user_levels):\n",
    "        levels = [int(elt[1]) for elt in user_levels]\n",
    "        return float(np.std(levels))\n",
    "    return F.udf(compute_std_level_, T.FloatType())(user_levels)\n",
    "\n",
    "skillranks = ['Unranked', 'Copper', 'Bronze', 'Silver', 'Gold', 'Platinum', 'Diamond']\n",
    "def build_count_skillranks(user_levels):\n",
    "    def build_count_skillranks_(user_levels):\n",
    "        skillranks_count = [0] * len(skillranks)\n",
    "        for elt in user_levels:\n",
    "            skillranks_count[skillranks.index(elt[0])] += 1\n",
    "        return skillranks_count\n",
    "    return F.udf(build_count_skillranks_, T.ArrayType(T.IntegerType()))(user_levels)\n",
    "\n",
    "# Get general statistics at the team level (first round as a reference)\n",
    "for teamid in range(2):\n",
    "    dfs_matches_stats = dfs_matches_stats.withColumn(f'team{teamid}_meanlevel', compute_average_level(F.col(f'team{teamid}_user_attributes_firstround')))\n",
    "    dfs_matches_stats = dfs_matches_stats.withColumn(f'team{teamid}_stdlevel', compute_std_level(F.col(f'team{teamid}_user_attributes_firstround')))\n",
    "    dfs_matches_stats = dfs_matches_stats.withColumn(f'team{teamid}_skillranks', build_count_skillranks(F.col(f'team{teamid}_user_attributes_firstround')))    "
   ]
  },
  {
   "cell_type": "code",
   "execution_count": 34,
   "id": "hourly-junction",
   "metadata": {},
   "outputs": [
    {
     "data": {
      "application/vnd.jupyter.widget-view+json": {
       "model_id": "6d94abc2dbd844c4b6465ada9d68cc95",
       "version_major": 2,
       "version_minor": 0
      },
      "text/plain": [
       "VBox()"
      ]
     },
     "metadata": {},
     "output_type": "display_data"
    },
    {
     "data": {
      "application/vnd.jupyter.widget-view+json": {
       "model_id": "",
       "version_major": 2,
       "version_minor": 0
      },
      "text/plain": [
       "FloatProgress(value=0.0, bar_style='info', description='Progress:', layout=Layout(height='25px', width='50%'),…"
      ]
     },
     "metadata": {},
     "output_type": "display_data"
    },
    {
     "name": "stdout",
     "output_type": "stream",
     "text": [
      "      matchid platform  ... team1_stdlevel       team1_skillranks\n",
      "0  1001541761      PS4  ...      19.126944  [0, 5, 0, 0, 0, 0, 0]\n",
      "1  1002578761     XONE  ...      22.337412  [0, 5, 0, 0, 0, 0, 0]\n",
      "2   100343401     XONE  ...      29.357111  [0, 0, 1, 4, 0, 0, 0]\n",
      "3  1003852761      PS4  ...      17.447063  [0, 5, 0, 0, 0, 0, 0]\n",
      "4  1004307321      PS4  ...      40.592609  [0, 4, 1, 0, 0, 0, 0]\n",
      "\n",
      "[5 rows x 28 columns]"
     ]
    }
   ],
   "source": [
    "dfs_matches_stats.sample(False, 0.1, 0).limit(5).toPandas()"
   ]
  },
  {
   "cell_type": "code",
   "execution_count": 35,
   "id": "induced-partner",
   "metadata": {},
   "outputs": [
    {
     "data": {
      "application/vnd.jupyter.widget-view+json": {
       "model_id": "67052fa9653b45629accaa46fcb62ed3",
       "version_major": 2,
       "version_minor": 0
      },
      "text/plain": [
       "VBox()"
      ]
     },
     "metadata": {},
     "output_type": "display_data"
    },
    {
     "data": {
      "application/vnd.jupyter.widget-view+json": {
       "model_id": "",
       "version_major": 2,
       "version_minor": 0
      },
      "text/plain": [
       "FloatProgress(value=0.0, bar_style='info', description='Progress:', layout=Layout(height='25px', width='50%'),…"
      ]
     },
     "metadata": {},
     "output_type": "display_data"
    }
   ],
   "source": [
    "def get_euclidian_distance(a, b):\n",
    "    def get_euclidian_distance_(a, b):\n",
    "        return float(np.linalg.norm(np.array(a)-np.array(b)))\n",
    "    return F.udf(get_euclidian_distance_, T.FloatType())(a, b)\n",
    "\n",
    "# Define a team as reference (in this case team 0)\n",
    "teamid_reference = 0\n",
    "teamid_opponent = 1 if teamid_reference == 0 else 0\n",
    "\n",
    "# Determine the difference on some metrics on the wo teams\n",
    "dfs_matches_stats = dfs_matches_stats.withColumn('deltateam_meanlevel', F.col(f'team{teamid_reference}_meanlevel') - F.col(f'team{teamid_opponent}_meanlevel'))\n",
    "dfs_matches_stats = dfs_matches_stats.withColumn('deltateam_stdlevel', F.col(f'team{teamid_reference}_stdlevel') - F.col(f'team{teamid_opponent}_stdlevel'))\n",
    "dfs_matches_stats = dfs_matches_stats.withColumn('deltateam_skillranks_ed', get_euclidian_distance(F.col(f'team{teamid_reference}_skillranks'), F.col(f'team{teamid_opponent}_skillranks')))\n",
    "dfs_matches_stats = dfs_matches_stats.withColumn('abs_deltateam_meanlevel', F.abs(F.col('deltateam_meanlevel')))\n",
    "dfs_matches_stats = dfs_matches_stats.withColumn('abs_deltateam_stdlevel', F.abs(F.col('deltateam_stdlevel')))\n",
    "\n",
    "# Determine the team who won\n",
    "dfs_matches_stats = dfs_matches_stats.withColumn('teamreference_won', F.when(F.col(f'team{teamid_reference}_role_count_round_won') > F.col(f'team{teamid_opponent}_role_count_round_won'), 1).otherwise(0))"
   ]
  },
  {
   "cell_type": "code",
   "execution_count": 36,
   "id": "demographic-vegetarian",
   "metadata": {},
   "outputs": [
    {
     "data": {
      "application/vnd.jupyter.widget-view+json": {
       "model_id": "1cf4f54685614a8c95e548b067b99f85",
       "version_major": 2,
       "version_minor": 0
      },
      "text/plain": [
       "VBox()"
      ]
     },
     "metadata": {},
     "output_type": "display_data"
    },
    {
     "data": {
      "application/vnd.jupyter.widget-view+json": {
       "model_id": "",
       "version_major": 2,
       "version_minor": 0
      },
      "text/plain": [
       "FloatProgress(value=0.0, bar_style='info', description='Progress:', layout=Layout(height='25px', width='50%'),…"
      ]
     },
     "metadata": {},
     "output_type": "display_data"
    }
   ],
   "source": [
    "# Gwt general infos on when the matches occured\n",
    "dfs_matches_stats = dfs_matches_stats.withColumn('date', F.to_timestamp(F.col('dateid'), 'yyyyMMdd'))\n",
    "dfs_matches_stats = dfs_matches_stats.withColumn('weekdate', F.date_format(F.col('date'), 'w').cast(T.IntegerType()))"
   ]
  },
  {
   "cell_type": "code",
   "execution_count": 45,
   "id": "mexican-distributor",
   "metadata": {},
   "outputs": [
    {
     "data": {
      "application/vnd.jupyter.widget-view+json": {
       "model_id": "e4762686226844a4af181703a762362e",
       "version_major": 2,
       "version_minor": 0
      },
      "text/plain": [
       "VBox()"
      ]
     },
     "metadata": {},
     "output_type": "display_data"
    },
    {
     "data": {
      "application/vnd.jupyter.widget-view+json": {
       "model_id": "",
       "version_major": 2,
       "version_minor": 0
      },
      "text/plain": [
       "FloatProgress(value=0.0, bar_style='info', description='Progress:', layout=Layout(height='25px', width='50%'),…"
      ]
     },
     "metadata": {},
     "output_type": "display_data"
    }
   ],
   "source": [
    "# Determine the patches that is currently on \n",
    "dfs_matches_stats = dfs_matches_stats.withColumn('patch', \n",
    "                                                 F.when((F.col('dateid') >= 20170207) & (F.col('dateid') < 20170221), '2.1.0')\n",
    "                                                 .when((F.col('dateid') >= 20170221) & (F.col('dateid') < 20170315), '2.1.1')\n",
    "                                                 .when((F.col('dateid') >= 20170315) & (F.col('dateid') < 20170419), '2.1.2').otherwise('2.1.3'))"
   ]
  },
  {
   "cell_type": "code",
   "execution_count": 46,
   "id": "expensive-penny",
   "metadata": {},
   "outputs": [
    {
     "data": {
      "application/vnd.jupyter.widget-view+json": {
       "model_id": "2a64f3aa524e4fd68ca888fbf0699c02",
       "version_major": 2,
       "version_minor": 0
      },
      "text/plain": [
       "VBox()"
      ]
     },
     "metadata": {},
     "output_type": "display_data"
    },
    {
     "data": {
      "application/vnd.jupyter.widget-view+json": {
       "model_id": "",
       "version_major": 2,
       "version_minor": 0
      },
      "text/plain": [
       "FloatProgress(value=0.0, bar_style='info', description='Progress:', layout=Layout(height='25px', width='50%'),…"
      ]
     },
     "metadata": {},
     "output_type": "display_data"
    },
    {
     "name": "stdout",
     "output_type": "stream",
     "text": [
      "      matchid platform     mapname  ...       date  weekdate  patch\n",
      "0  1001541761      PS4      CHALET  ... 2017-04-22        16  2.1.3\n",
      "1  1002578761     XONE      OREGON  ... 2017-03-15        11  2.1.2\n",
      "2   100343401     XONE       HOUSE  ... 2017-05-14        20  2.1.3\n",
      "3  1003852761      PS4  CLUB HOUSE  ... 2017-05-05        18  2.1.3\n",
      "4  1004307321      PS4   CONSULATE  ... 2017-05-11        19  2.1.3\n",
      "\n",
      "[5 rows x 37 columns]"
     ]
    }
   ],
   "source": [
    "dfs_matches_stats.sample(False, 0.1, 0).limit(5).toPandas()"
   ]
  },
  {
   "cell_type": "code",
   "execution_count": 48,
   "id": "developing-latino",
   "metadata": {},
   "outputs": [
    {
     "data": {
      "application/vnd.jupyter.widget-view+json": {
       "model_id": "86ddec583a2e4da6867bee9c2e58e1ce",
       "version_major": 2,
       "version_minor": 0
      },
      "text/plain": [
       "VBox()"
      ]
     },
     "metadata": {},
     "output_type": "display_data"
    },
    {
     "data": {
      "application/vnd.jupyter.widget-view+json": {
       "model_id": "",
       "version_major": 2,
       "version_minor": 0
      },
      "text/plain": [
       "FloatProgress(value=0.0, bar_style='info', description='Progress:', layout=Layout(height='25px', width='50%'),…"
      ]
     },
     "metadata": {},
     "output_type": "display_data"
    },
    {
     "name": "stdout",
     "output_type": "stream",
     "text": [
      "DONE"
     ]
    }
   ],
   "source": [
    "dfs_matches_stats.write.partitionBy('dateid').mode('overwrite').saveAsTable('r6s_datapeek.matches_stats')\n",
    "print('DONE')"
   ]
  },
  {
   "cell_type": "markdown",
   "id": "portable-merit",
   "metadata": {},
   "source": [
    "## Debug"
   ]
  },
  {
   "cell_type": "code",
   "execution_count": 50,
   "id": "clean-davis",
   "metadata": {},
   "outputs": [
    {
     "data": {
      "application/vnd.jupyter.widget-view+json": {
       "model_id": "f2bd65a15edd4a348d35e761d4526b98",
       "version_major": 2,
       "version_minor": 0
      },
      "text/plain": [
       "VBox()"
      ]
     },
     "metadata": {},
     "output_type": "display_data"
    },
    {
     "data": {
      "application/vnd.jupyter.widget-view+json": {
       "model_id": "",
       "version_major": 2,
       "version_minor": 0
      },
      "text/plain": [
       "FloatProgress(value=0.0, bar_style='info', description='Progress:', layout=Layout(height='25px', width='50%'),…"
      ]
     },
     "metadata": {},
     "output_type": "display_data"
    },
    {
     "name": "stderr",
     "output_type": "stream",
     "text": [
      "'NoneType' object has no attribute 'groupBy'\n",
      "Traceback (most recent call last):\n",
      "AttributeError: 'NoneType' object has no attribute 'groupBy'\n",
      "\n"
     ]
    }
   ],
   "source": [
    "dfs_matches_stats.groupBy(['patch']).agg(F.min('dateid'), F.max('dateid')).toPandas()"
   ]
  },
  {
   "cell_type": "code",
   "execution_count": null,
   "id": "grave-server",
   "metadata": {},
   "outputs": [],
   "source": []
  },
  {
   "cell_type": "code",
   "execution_count": null,
   "id": "floating-paint",
   "metadata": {},
   "outputs": [],
   "source": []
  },
  {
   "cell_type": "code",
   "execution_count": null,
   "id": "efficient-evaluation",
   "metadata": {},
   "outputs": [],
   "source": []
  },
  {
   "cell_type": "code",
   "execution_count": null,
   "id": "embedded-homework",
   "metadata": {},
   "outputs": [],
   "source": []
  }
 ],
 "metadata": {
  "kernelspec": {
   "display_name": "PySpark",
   "language": "",
   "name": "pysparkkernel"
  },
  "language_info": {
   "codemirror_mode": {
    "name": "python",
    "version": 2
   },
   "mimetype": "text/x-python",
   "name": "pyspark",
   "pygments_lexer": "python2"
  }
 },
 "nbformat": 4,
 "nbformat_minor": 5
}

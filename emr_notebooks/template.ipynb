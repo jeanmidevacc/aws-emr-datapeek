{
 "cells": [
  {
   "cell_type": "code",
   "execution_count": null,
   "metadata": {},
   "outputs": [],
   "source": [
    "%%configure -f\n",
    "{ \"conf\":{\n",
    "    \"spark.pyspark.python\": \"python3\",\n",
    "    \"spark.pyspark.virtualenv.enabled\": \"true\",\n",
    "    \"spark.pyspark.virtualenv.bin.path\":\"/usr/bin/virtualenv\",\n",
    "    \"spark.pyspark.virtualenv.type\":\"native\",\n",
    "    \"spark.dynamicAllocation.enabled\":\"true\",\n",
    "    \"spark.shuffle.service.enabled\":\"true\",\n",
    "    \"spark.dynamicAllocation.minExecutors\":\"8\",\n",
    "    \"spark.sql.sources.partitionOverwriteMode\":\"dynamic\",\n",
    "    \"spark.sql.legacy.allowCreatingManagedTableUsingNonemptyLocation\":\"true\"\n",
    "}\n",
    "}"
   ]
  },
  {
   "cell_type": "code",
   "execution_count": null,
   "metadata": {},
   "outputs": [],
   "source": [
    "# https://aws.amazon.com/blogs/big-data/install-python-libraries-on-a-running-cluster-with-emr-notebooks/\n",
    "from pyspark.sql import SparkSession\n",
    "spark = SparkSession.builder.appName(\"template\").enableHiveSupport().getOrCreate()"
   ]
  }
 ],
 "metadata": {
  "kernelspec": {
   "display_name": "PySpark",
   "language": "",
   "name": "pysparkkernel"
  },
  "language_info": {
   "codemirror_mode": {
    "name": "python",
    "version": 2
   },
   "mimetype": "text/x-python",
   "name": "pyspark",
   "pygments_lexer": "python2"
  }
 },
 "nbformat": 4,
 "nbformat_minor": 4
}
